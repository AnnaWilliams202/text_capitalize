{
 "cells": [
  {
   "cell_type": "markdown",
   "metadata": {},
   "source": [
    "Connected to Python 3.9.6"
   ]
  },
  {
   "cell_type": "code",
   "execution_count": 1,
   "id": "9a7376dd-79f4-4704-8555-f8387ba90ca6",
   "metadata": {},
   "outputs": [],
   "source": [
    "with open ('snowwhite.txt', 'r') as file:\n",
    "    text = file.read()\n",
    "\n",
    "words = text.split('. ')\n",
    "cap_words = []\n",
    "\n",
    "for w in words:\n",
    "    w = w.capitalize()\n",
    "    cap_words.append(w)\n",
    "    \n",
    "    \n",
    "cap_text = ' '.join(cap_words)\n",
    "\n",
    "with open ('snowwhite_corrected.txt', 'w') as file:\n",
    "    file.write(cap_text)"
   ]
  }
 ],
 "metadata": {
  "kernelspec": {
   "display_name": "Python 3",
   "language": "python",
   "name": "python3"
  },
  "language_info": {
   "name": "python",
   "version": "3.9.6"
  }
 },
 "nbformat": 4,
 "nbformat_minor": 2
}
